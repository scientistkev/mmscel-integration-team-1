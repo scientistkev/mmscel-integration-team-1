{
  "nbformat": 4,
  "nbformat_minor": 0,
  "metadata": {
    "colab": {
      "provenance": [],
      "authorship_tag": "ABX9TyMraVrvPNNeNcYj8r8Zg7te",
      "include_colab_link": true
    },
    "kernelspec": {
      "name": "python3",
      "display_name": "Python 3"
    },
    "language_info": {
      "name": "python"
    }
  },
  "cells": [
    {
      "cell_type": "markdown",
      "metadata": {
        "id": "view-in-github",
        "colab_type": "text"
      },
      "source": [
        "<a href=\"https://colab.research.google.com/github/scientistkev/mmscel-integration-team-1/blob/main/Group_1_Notebook_1.ipynb\" target=\"_parent\"><img src=\"https://colab.research.google.com/assets/colab-badge.svg\" alt=\"Open In Colab\"/></a>"
      ]
    },
    {
      "cell_type": "code",
      "execution_count": null,
      "metadata": {
        "id": "khonxzMcizJ8"
      },
      "outputs": [],
      "source": [
        "import pandas\n",
        "import numpy\n"
      ]
    },
    {
      "cell_type": "code",
      "source": [
        "#Import data frames:"
      ],
      "metadata": {
        "id": "BMk3p8lFqGjQ"
      },
      "execution_count": null,
      "outputs": []
    },
    {
      "cell_type": "code",
      "source": [
        "#Find unique values within columns of interest\n",
        "df_initial = pd.read_dataframe\n",
        "df_initial[\"cell_type\"].nunique()"
      ],
      "metadata": {
        "id": "uWwx_BG1i478"
      },
      "execution_count": null,
      "outputs": []
    },
    {
      "cell_type": "code",
      "source": [
        "#Find how many cells are categorized in each identified sub-category"
      ],
      "metadata": {
        "id": "mFDhQT9cn9Ol"
      },
      "execution_count": null,
      "outputs": []
    },
    {
      "cell_type": "code",
      "source": [
        "#make a graph showing how many cells are in each category"
      ],
      "metadata": {
        "id": "yVQ9E0WKrheP"
      },
      "execution_count": null,
      "outputs": []
    },
    {
      "cell_type": "code",
      "source": [
        "#Remove sub-categories that have too few cells"
      ],
      "metadata": {
        "id": "g3_XsllPrax4"
      },
      "execution_count": null,
      "outputs": []
    }
  ]
}