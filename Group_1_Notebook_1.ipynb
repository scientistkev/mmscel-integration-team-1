{
  "nbformat": 4,
  "nbformat_minor": 0,
  "metadata": {
    "colab": {
      "provenance": [],
      "mount_file_id": "https://github.com/scientistkev/mmscel-integration-team-1/blob/main/Group_1_Notebook_1.ipynb",
      "authorship_tag": "ABX9TyOWM1pRTKTk9DqSb428+1x6",
      "include_colab_link": true
    },
    "kernelspec": {
      "name": "python3",
      "display_name": "Python 3"
    },
    "language_info": {
      "name": "python"
    }
  },
  "cells": [
    {
      "cell_type": "markdown",
      "metadata": {
        "id": "view-in-github",
        "colab_type": "text"
      },
      "source": [
        "<a href=\"https://colab.research.google.com/github/scientistkev/mmscel-integration-team-1/blob/main/Group_1_Notebook_1.ipynb\" target=\"_parent\"><img src=\"https://colab.research.google.com/assets/colab-badge.svg\" alt=\"Open In Colab\"/></a>"
      ]
    },
    {
      "cell_type": "code",
      "execution_count": 1,
      "metadata": {
        "id": "khonxzMcizJ8"
      },
      "outputs": [],
      "source": [
        "import pandas as pd\n",
        "import numpy\n",
        "\n",
        "# Google drive\n",
        "import drive"
      ]
    },
    {
      "cell_type": "code",
      "source": [
        "# metadata.csv\n",
        "df_meta_1 = pd.read_csv(\"/content/drive/Othercomputers/My MacBook Air/Multimodal Cell/metadata.csv\")\n",
        "print(df_meta_1)\n",
        "print(\"There are four unique donors for this csv:\", df_meta_1['donor'].unique())\n",
        "print(\"There are four unique 'days' for this dataframe:\", df_meta_1['day'].unique())\n",
        "print(\"There are two unique values for 'technology':\", df_meta_1['technology'].unique())\n",
        "\n",
        "# Should we set the index to cell_id?"
      ],
      "metadata": {
        "id": "3TO1Wchou-5-",
        "outputId": "0f74453c-5f6b-44ae-db45-295c7c9ac068",
        "colab": {
          "base_uri": "https://localhost:8080/"
        }
      },
      "execution_count": 92,
      "outputs": [
        {
          "output_type": "stream",
          "name": "stdout",
          "text": [
            "             cell_id  day  donor cell_type technology\n",
            "0       c2150f55becb    2  27678       HSC    citeseq\n",
            "1       65b7edf8a4da    2  27678       HSC    citeseq\n",
            "2       c1b26cb1057b    2  27678      EryP    citeseq\n",
            "3       917168fa6f83    2  27678      NeuP    citeseq\n",
            "4       2b29feeca86d    2  27678      EryP    citeseq\n",
            "...              ...  ...    ...       ...        ...\n",
            "281523  96a60b026659   10  31800    hidden   multiome\n",
            "281524  d493e546991e   10  31800    hidden   multiome\n",
            "281525  05666c99aa48   10  31800    hidden   multiome\n",
            "281526  121f946642b5   10  31800    hidden   multiome\n",
            "281527  b847ba21f59f   10  31800    hidden   multiome\n",
            "\n",
            "[281528 rows x 5 columns]\n",
            "There are four unique donors for this csv: [27678 32606 13176 31800]\n",
            "There are four unique 'days' for this dataframe: [ 2  3  4  7 10]\n",
            "There are two unique values for 'technology': ['citeseq' 'multiome']\n"
          ]
        }
      ]
    },
    {
      "cell_type": "code",
      "source": [
        "# There are only two divisions, so I split the dataframe into two tables. \n",
        "\n",
        "df_meta_1_multiome = df_meta_1[df_meta_1['technology'] == 'multiome']\n",
        "df_meta_1_citeseq = df_meta_1[df_meta_1['technology'] == 'citeseq']\n",
        "print(df_meta_1_multiome['cell_type'].value_counts())\n",
        "print(\"Multiome has\", df_meta_1_multiome['cell_type'].nunique(), \"unique cell types\")\n",
        "print()"
      ],
      "metadata": {
        "id": "_nGJgd6NXpsk",
        "outputId": "def4f7bd-a445-45aa-cd73-ff8079dcb476",
        "colab": {
          "base_uri": "https://localhost:8080/"
        }
      },
      "execution_count": 93,
      "outputs": [
        {
          "output_type": "stream",
          "name": "stdout",
          "text": [
            "hidden    55935\n",
            "HSC       34661\n",
            "NeuP      21561\n",
            "EryP      17135\n",
            "MasP      16737\n",
            "MkP       13221\n",
            "MoP        2061\n",
            "BP          566\n",
            "Name: cell_type, dtype: int64\n",
            "Multiome has 8 unique cell types\n",
            "\n"
          ]
        }
      ]
    },
    {
      "cell_type": "markdown",
      "source": [
        "There's a `hidden` cell type that accounts for the `cell_type` with the highest count in multimodal. Why?\n",
        "`hidden` cells are not found in the `citeseq` dataframe as shown below:"
      ],
      "metadata": {
        "id": "71OuKrCphO3j"
      }
    },
    {
      "cell_type": "code",
      "source": [
        "print(df_meta_1_citeseq['cell_type'].value_counts())\n",
        "print(\"citeseq has\", df_meta_1_citeseq['cell_type'].nunique(), \"unique cell types\")\n",
        "\n",
        "# \"hidden\" cells are not found in citeseq\n",
        "# BP and MoP have pretty low cell counts for multiome and citeseq. Get rid of them for now?"
      ],
      "metadata": {
        "id": "-pQjD4YvZDBz",
        "outputId": "a34b7be7-47af-42db-96fc-2b90e65bba4e",
        "colab": {
          "base_uri": "https://localhost:8080/"
        }
      },
      "execution_count": 94,
      "outputs": [
        {
          "output_type": "stream",
          "name": "stdout",
          "text": [
            "HSC     42874\n",
            "EryP    24344\n",
            "NeuP    21418\n",
            "MasP    18090\n",
            "MkP     10800\n",
            "MoP      1822\n",
            "BP        303\n",
            "Name: cell_type, dtype: int64\n",
            "citeseq has 7 unique cell types\n"
          ]
        }
      ]
    },
    {
      "cell_type": "code",
      "source": [
        "#metadata_cite_day_2_donor_27678.csv\n",
        "df_meta_2 = pd.read_csv('/content/drive/Othercomputers/My MacBook Air/Multimodal Cell/metadata_cite_day_2_donor_27678.csv')\n",
        "print(df_meta_2)\n",
        "print(\"There is only \", df_meta_2['technology'].nunique(), \" value in the 'technology' column.\")\n",
        "print(\"There is only \", df_meta_2['day'].nunique(), \" value in the 'day' column.\")\n",
        "print(\"There is only \", df_meta_2['donor'].nunique(), \" value in the 'donor' column\")"
      ],
      "metadata": {
        "id": "b7yTlLJdsNLt",
        "outputId": "3e04a73f-26d7-402f-b3f2-9809c232457a",
        "colab": {
          "base_uri": "https://localhost:8080/"
        }
      },
      "execution_count": 95,
      "outputs": [
        {
          "output_type": "stream",
          "name": "stdout",
          "text": [
            "           cell_id  day  donor cell_type technology\n",
            "0     83d6659a6a32    2  27678      NeuP    citeseq\n",
            "1     d98594f13d2e    2  27678      NeuP    citeseq\n",
            "2     5f93d8ffc72f    2  27678      NeuP    citeseq\n",
            "3     7dfa2699d351    2  27678      EryP    citeseq\n",
            "4     6d2533edd0e0    2  27678       HSC    citeseq\n",
            "...            ...  ...    ...       ...        ...\n",
            "7011  be92120b3a00    2  27678       HSC    citeseq\n",
            "7012  396d0c31d41c    2  27678       HSC    citeseq\n",
            "7013  ef6bf272cdcf    2  27678      EryP    citeseq\n",
            "7014  6339da0de3a0    2  27678       HSC    citeseq\n",
            "7015  397bef68ded6    2  27678       HSC    citeseq\n",
            "\n",
            "[7016 rows x 5 columns]\n",
            "There is only  1  value in the 'technology' column.\n",
            "There is only  1  value in the 'day' column.\n",
            "There is only  1  value in the 'donor' column\n"
          ]
        }
      ]
    },
    {
      "cell_type": "markdown",
      "source": [
        "PLEASE NOTE: `day 2` and `donor 27678` exist in `df_meta_1` too. Are these the same values? If not, can we create a new dataframe with only the data for `donor 27678` on `day 2`? I explored `df_meta_1` a little further in the cell below:"
      ],
      "metadata": {
        "id": "whUx7MZ-i0qn"
      }
    },
    {
      "cell_type": "code",
      "source": [
        "print('These are the unique \"donors\" on \"day 2\":',df_meta_1[df_meta_1['day'] == 2]['donor'].unique())\n",
        "print('These are the unique \"days\" for \"donor 27678\":',df_meta_1[df_meta_1['donor'] == 27678]['day'].unique())"
      ],
      "metadata": {
        "id": "-Sh4B462jHN_",
        "outputId": "89a542bd-11c8-4c19-c2e0-1d78c4208953",
        "colab": {
          "base_uri": "https://localhost:8080/"
        }
      },
      "execution_count": 96,
      "outputs": [
        {
          "output_type": "stream",
          "name": "stdout",
          "text": [
            "These are the unique \"donors\" on \"day 2\": [27678 32606 13176 31800]\n",
            "These are the unique \"days\" for \"donor 27678\": [ 2  3  4  7 10]\n"
          ]
        }
      ]
    },
    {
      "cell_type": "code",
      "source": [
        "#I deleted the three columns with only 1 value in them\n",
        "df_meta_2 = df_meta_2[['cell_id', 'cell_type']]\n",
        "df_meta_2\n",
        "\n",
        "# Should we set the index to cell_id?"
      ],
      "metadata": {
        "id": "LwbB8LcGfvwF",
        "outputId": "ab81228c-51bc-49ae-e971-584b13273a20",
        "colab": {
          "base_uri": "https://localhost:8080/",
          "height": 419
        }
      },
      "execution_count": 97,
      "outputs": [
        {
          "output_type": "execute_result",
          "data": {
            "text/plain": [
              "           cell_id cell_type\n",
              "0     83d6659a6a32      NeuP\n",
              "1     d98594f13d2e      NeuP\n",
              "2     5f93d8ffc72f      NeuP\n",
              "3     7dfa2699d351      EryP\n",
              "4     6d2533edd0e0       HSC\n",
              "...            ...       ...\n",
              "7011  be92120b3a00       HSC\n",
              "7012  396d0c31d41c       HSC\n",
              "7013  ef6bf272cdcf      EryP\n",
              "7014  6339da0de3a0       HSC\n",
              "7015  397bef68ded6       HSC\n",
              "\n",
              "[7016 rows x 2 columns]"
            ],
            "text/html": [
              "\n",
              "  <div id=\"df-e7709a8a-8bf4-4d4d-b370-ccd6d1344326\">\n",
              "    <div class=\"colab-df-container\">\n",
              "      <div>\n",
              "<style scoped>\n",
              "    .dataframe tbody tr th:only-of-type {\n",
              "        vertical-align: middle;\n",
              "    }\n",
              "\n",
              "    .dataframe tbody tr th {\n",
              "        vertical-align: top;\n",
              "    }\n",
              "\n",
              "    .dataframe thead th {\n",
              "        text-align: right;\n",
              "    }\n",
              "</style>\n",
              "<table border=\"1\" class=\"dataframe\">\n",
              "  <thead>\n",
              "    <tr style=\"text-align: right;\">\n",
              "      <th></th>\n",
              "      <th>cell_id</th>\n",
              "      <th>cell_type</th>\n",
              "    </tr>\n",
              "  </thead>\n",
              "  <tbody>\n",
              "    <tr>\n",
              "      <th>0</th>\n",
              "      <td>83d6659a6a32</td>\n",
              "      <td>NeuP</td>\n",
              "    </tr>\n",
              "    <tr>\n",
              "      <th>1</th>\n",
              "      <td>d98594f13d2e</td>\n",
              "      <td>NeuP</td>\n",
              "    </tr>\n",
              "    <tr>\n",
              "      <th>2</th>\n",
              "      <td>5f93d8ffc72f</td>\n",
              "      <td>NeuP</td>\n",
              "    </tr>\n",
              "    <tr>\n",
              "      <th>3</th>\n",
              "      <td>7dfa2699d351</td>\n",
              "      <td>EryP</td>\n",
              "    </tr>\n",
              "    <tr>\n",
              "      <th>4</th>\n",
              "      <td>6d2533edd0e0</td>\n",
              "      <td>HSC</td>\n",
              "    </tr>\n",
              "    <tr>\n",
              "      <th>...</th>\n",
              "      <td>...</td>\n",
              "      <td>...</td>\n",
              "    </tr>\n",
              "    <tr>\n",
              "      <th>7011</th>\n",
              "      <td>be92120b3a00</td>\n",
              "      <td>HSC</td>\n",
              "    </tr>\n",
              "    <tr>\n",
              "      <th>7012</th>\n",
              "      <td>396d0c31d41c</td>\n",
              "      <td>HSC</td>\n",
              "    </tr>\n",
              "    <tr>\n",
              "      <th>7013</th>\n",
              "      <td>ef6bf272cdcf</td>\n",
              "      <td>EryP</td>\n",
              "    </tr>\n",
              "    <tr>\n",
              "      <th>7014</th>\n",
              "      <td>6339da0de3a0</td>\n",
              "      <td>HSC</td>\n",
              "    </tr>\n",
              "    <tr>\n",
              "      <th>7015</th>\n",
              "      <td>397bef68ded6</td>\n",
              "      <td>HSC</td>\n",
              "    </tr>\n",
              "  </tbody>\n",
              "</table>\n",
              "<p>7016 rows × 2 columns</p>\n",
              "</div>\n",
              "      <button class=\"colab-df-convert\" onclick=\"convertToInteractive('df-e7709a8a-8bf4-4d4d-b370-ccd6d1344326')\"\n",
              "              title=\"Convert this dataframe to an interactive table.\"\n",
              "              style=\"display:none;\">\n",
              "        \n",
              "  <svg xmlns=\"http://www.w3.org/2000/svg\" height=\"24px\"viewBox=\"0 0 24 24\"\n",
              "       width=\"24px\">\n",
              "    <path d=\"M0 0h24v24H0V0z\" fill=\"none\"/>\n",
              "    <path d=\"M18.56 5.44l.94 2.06.94-2.06 2.06-.94-2.06-.94-.94-2.06-.94 2.06-2.06.94zm-11 1L8.5 8.5l.94-2.06 2.06-.94-2.06-.94L8.5 2.5l-.94 2.06-2.06.94zm10 10l.94 2.06.94-2.06 2.06-.94-2.06-.94-.94-2.06-.94 2.06-2.06.94z\"/><path d=\"M17.41 7.96l-1.37-1.37c-.4-.4-.92-.59-1.43-.59-.52 0-1.04.2-1.43.59L10.3 9.45l-7.72 7.72c-.78.78-.78 2.05 0 2.83L4 21.41c.39.39.9.59 1.41.59.51 0 1.02-.2 1.41-.59l7.78-7.78 2.81-2.81c.8-.78.8-2.07 0-2.86zM5.41 20L4 18.59l7.72-7.72 1.47 1.35L5.41 20z\"/>\n",
              "  </svg>\n",
              "      </button>\n",
              "      \n",
              "  <style>\n",
              "    .colab-df-container {\n",
              "      display:flex;\n",
              "      flex-wrap:wrap;\n",
              "      gap: 12px;\n",
              "    }\n",
              "\n",
              "    .colab-df-convert {\n",
              "      background-color: #E8F0FE;\n",
              "      border: none;\n",
              "      border-radius: 50%;\n",
              "      cursor: pointer;\n",
              "      display: none;\n",
              "      fill: #1967D2;\n",
              "      height: 32px;\n",
              "      padding: 0 0 0 0;\n",
              "      width: 32px;\n",
              "    }\n",
              "\n",
              "    .colab-df-convert:hover {\n",
              "      background-color: #E2EBFA;\n",
              "      box-shadow: 0px 1px 2px rgba(60, 64, 67, 0.3), 0px 1px 3px 1px rgba(60, 64, 67, 0.15);\n",
              "      fill: #174EA6;\n",
              "    }\n",
              "\n",
              "    [theme=dark] .colab-df-convert {\n",
              "      background-color: #3B4455;\n",
              "      fill: #D2E3FC;\n",
              "    }\n",
              "\n",
              "    [theme=dark] .colab-df-convert:hover {\n",
              "      background-color: #434B5C;\n",
              "      box-shadow: 0px 1px 3px 1px rgba(0, 0, 0, 0.15);\n",
              "      filter: drop-shadow(0px 1px 2px rgba(0, 0, 0, 0.3));\n",
              "      fill: #FFFFFF;\n",
              "    }\n",
              "  </style>\n",
              "\n",
              "      <script>\n",
              "        const buttonEl =\n",
              "          document.querySelector('#df-e7709a8a-8bf4-4d4d-b370-ccd6d1344326 button.colab-df-convert');\n",
              "        buttonEl.style.display =\n",
              "          google.colab.kernel.accessAllowed ? 'block' : 'none';\n",
              "\n",
              "        async function convertToInteractive(key) {\n",
              "          const element = document.querySelector('#df-e7709a8a-8bf4-4d4d-b370-ccd6d1344326');\n",
              "          const dataTable =\n",
              "            await google.colab.kernel.invokeFunction('convertToInteractive',\n",
              "                                                     [key], {});\n",
              "          if (!dataTable) return;\n",
              "\n",
              "          const docLinkHtml = 'Like what you see? Visit the ' +\n",
              "            '<a target=\"_blank\" href=https://colab.research.google.com/notebooks/data_table.ipynb>data table notebook</a>'\n",
              "            + ' to learn more about interactive tables.';\n",
              "          element.innerHTML = '';\n",
              "          dataTable['output_type'] = 'display_data';\n",
              "          await google.colab.output.renderOutput(dataTable, element);\n",
              "          const docLink = document.createElement('div');\n",
              "          docLink.innerHTML = docLinkHtml;\n",
              "          element.appendChild(docLink);\n",
              "        }\n",
              "      </script>\n",
              "    </div>\n",
              "  </div>\n",
              "  "
            ]
          },
          "metadata": {},
          "execution_count": 97
        }
      ]
    },
    {
      "cell_type": "markdown",
      "source": [
        "What's next here? I took a look at `evaluation_ids.csv` but I'm not really sure what to do with this dataframe. I will take a look at the h5s hopefully sometime soon."
      ],
      "metadata": {
        "id": "NeB508aBlR-2"
      }
    },
    {
      "cell_type": "code",
      "source": [
        "#Pearson's correlations\n",
        "#"
      ],
      "metadata": {
        "id": "3d8V4_oWsJwj"
      },
      "execution_count": 98,
      "outputs": []
    },
    {
      "cell_type": "code",
      "source": [],
      "metadata": {
        "id": "qSAaFG6vlxuJ"
      },
      "execution_count": 98,
      "outputs": []
    }
  ]
}